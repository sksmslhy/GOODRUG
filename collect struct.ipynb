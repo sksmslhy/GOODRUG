{
 "cells": [
  {
   "cell_type": "code",
   "execution_count": 8,
   "id": "1c4c1c03",
   "metadata": {
    "scrolled": true
   },
   "outputs": [],
   "source": [
    "from rdkit import Chem\n",
    "from rdkit.Chem import Draw\n",
    "#from rdkit.Chem.Draw import IPythonConsole\n",
    "import pandas as pd"
   ]
  },
  {
   "cell_type": "code",
   "execution_count": 4,
   "id": "84965594",
   "metadata": {
    "scrolled": false
   },
   "outputs": [
    {
     "data": {
      "text/html": [
       "<div>\n",
       "<style scoped>\n",
       "    .dataframe tbody tr th:only-of-type {\n",
       "        vertical-align: middle;\n",
       "    }\n",
       "\n",
       "    .dataframe tbody tr th {\n",
       "        vertical-align: top;\n",
       "    }\n",
       "\n",
       "    .dataframe thead th {\n",
       "        text-align: right;\n",
       "    }\n",
       "</style>\n",
       "<table border=\"1\" class=\"dataframe\">\n",
       "  <thead>\n",
       "    <tr style=\"text-align: right;\">\n",
       "      <th></th>\n",
       "      <th>filepath</th>\n",
       "      <th>id</th>\n",
       "      <th>smiles</th>\n",
       "      <th>Y</th>\n",
       "    </tr>\n",
       "  </thead>\n",
       "  <tbody>\n",
       "    <tr>\n",
       "      <th>0</th>\n",
       "      <td>NaN</td>\n",
       "      <td>DB01100</td>\n",
       "      <td>NS(=O)(=O)C1=CC(=C(Cl)C(Cl)=C1)S(N)(=O)=O</td>\n",
       "      <td>0</td>\n",
       "    </tr>\n",
       "    <tr>\n",
       "      <th>1</th>\n",
       "      <td>NaN</td>\n",
       "      <td>DB00243</td>\n",
       "      <td>OCCN1CCN(CC\\C=C2\\C3=C(SC4=C2C=C(Cl)C=C4)C=CC=C...</td>\n",
       "      <td>0</td>\n",
       "    </tr>\n",
       "    <tr>\n",
       "      <th>2</th>\n",
       "      <td>NaN</td>\n",
       "      <td>DB00572</td>\n",
       "      <td>COC1=C(OC)C=C2C(N)=NC(=NC2=C1)N1CCN(CC1)C(=O)C...</td>\n",
       "      <td>0</td>\n",
       "    </tr>\n",
       "    <tr>\n",
       "      <th>3</th>\n",
       "      <td>NaN</td>\n",
       "      <td>DB00776</td>\n",
       "      <td>COC1=CC2=C(C=C1)C=C(C=C2)[C@H](C)C(O)=O</td>\n",
       "      <td>0</td>\n",
       "    </tr>\n",
       "    <tr>\n",
       "      <th>4</th>\n",
       "      <td>NaN</td>\n",
       "      <td>DB03615</td>\n",
       "      <td>NC[C@H]1O[C@H](O[C@@H]2[C@@H](N)C[C@@H](N)[C@H...</td>\n",
       "      <td>0</td>\n",
       "    </tr>\n",
       "    <tr>\n",
       "      <th>...</th>\n",
       "      <td>...</td>\n",
       "      <td>...</td>\n",
       "      <td>...</td>\n",
       "      <td>...</td>\n",
       "    </tr>\n",
       "    <tr>\n",
       "      <th>3217</th>\n",
       "      <td>NaN</td>\n",
       "      <td>DB00711</td>\n",
       "      <td>CC(CN(C)C)CN1C2=CC=CC=C2CCC2=CC=CC=C12</td>\n",
       "      <td>2</td>\n",
       "    </tr>\n",
       "    <tr>\n",
       "      <th>3218</th>\n",
       "      <td>NaN</td>\n",
       "      <td>DB01096</td>\n",
       "      <td>COC(=O)C1=C(C)NC(C)=C(C1C1=CC=CC2=NON=C12)C(=O...</td>\n",
       "      <td>2</td>\n",
       "    </tr>\n",
       "    <tr>\n",
       "      <th>3219</th>\n",
       "      <td>NaN</td>\n",
       "      <td>DB09026</td>\n",
       "      <td>COC(=O)N[C@H](C(=O)N[C@@H](CC1=CC=CC=C1)[C@@H]...</td>\n",
       "      <td>2</td>\n",
       "    </tr>\n",
       "    <tr>\n",
       "      <th>3220</th>\n",
       "      <td>NaN</td>\n",
       "      <td>DB00820</td>\n",
       "      <td>CN1C2=C(C=C(Cl)C=C2)C(=NCC1=O)C1=CC=CC=C1F</td>\n",
       "      <td>2</td>\n",
       "    </tr>\n",
       "    <tr>\n",
       "      <th>3221</th>\n",
       "      <td>NaN</td>\n",
       "      <td>DB01032</td>\n",
       "      <td>NC(=O)NC(=O)CC1=CC=CC=C1</td>\n",
       "      <td>2</td>\n",
       "    </tr>\n",
       "  </tbody>\n",
       "</table>\n",
       "<p>3222 rows × 4 columns</p>\n",
       "</div>"
      ],
      "text/plain": [
       "      filepath       id                                             smiles  Y\n",
       "0          NaN  DB01100          NS(=O)(=O)C1=CC(=C(Cl)C(Cl)=C1)S(N)(=O)=O  0\n",
       "1          NaN  DB00243  OCCN1CCN(CC\\C=C2\\C3=C(SC4=C2C=C(Cl)C=C4)C=CC=C...  0\n",
       "2          NaN  DB00572  COC1=C(OC)C=C2C(N)=NC(=NC2=C1)N1CCN(CC1)C(=O)C...  0\n",
       "3          NaN  DB00776            COC1=CC2=C(C=C1)C=C(C=C2)[C@H](C)C(O)=O  0\n",
       "4          NaN  DB03615  NC[C@H]1O[C@H](O[C@@H]2[C@@H](N)C[C@@H](N)[C@H...  0\n",
       "...        ...      ...                                                ... ..\n",
       "3217       NaN  DB00711             CC(CN(C)C)CN1C2=CC=CC=C2CCC2=CC=CC=C12  2\n",
       "3218       NaN  DB01096  COC(=O)C1=C(C)NC(C)=C(C1C1=CC=CC2=NON=C12)C(=O...  2\n",
       "3219       NaN  DB09026  COC(=O)N[C@H](C(=O)N[C@@H](CC1=CC=CC=C1)[C@@H]...  2\n",
       "3220       NaN  DB00820         CN1C2=C(C=C(Cl)C=C2)C(=NCC1=O)C1=CC=CC=C1F  2\n",
       "3221       NaN  DB01032                           NC(=O)NC(=O)CC1=CC=CC=C1  2\n",
       "\n",
       "[3222 rows x 4 columns]"
      ]
     },
     "execution_count": 4,
     "metadata": {},
     "output_type": "execute_result"
    }
   ],
   "source": [
    "df = pd.read_csv('./labels.csv')\n",
    "df"
   ]
  },
  {
   "cell_type": "code",
   "execution_count": 22,
   "id": "2d82ca47",
   "metadata": {},
   "outputs": [
    {
     "data": {
      "text/plain": [
       "'./images/DB01100.jpg'"
      ]
     },
     "execution_count": 22,
     "metadata": {},
     "output_type": "execute_result"
    }
   ],
   "source": [
    "filepath = './images/' + df['id'][0] + '.jpg'\n",
    "filepath"
   ]
  },
  {
   "cell_type": "code",
   "execution_count": 30,
   "id": "df5d48d8",
   "metadata": {
    "scrolled": true
   },
   "outputs": [
    {
     "name": "stderr",
     "output_type": "stream",
     "text": [
      "RDKit ERROR: [20:41:43] Explicit valence for atom # 0 N, 4, is greater than permitted\n",
      "[20:41:43] Explicit valence for atom # 0 N, 4, is greater than permitted\n"
     ]
    },
    {
     "name": "stdout",
     "output_type": "stream",
     "text": [
      "502\n"
     ]
    },
    {
     "name": "stderr",
     "output_type": "stream",
     "text": [
      "RDKit ERROR: [20:41:51] Explicit valence for atom # 0 N, 4, is greater than permitted\n",
      "[20:41:51] Explicit valence for atom # 0 N, 4, is greater than permitted\n"
     ]
    },
    {
     "name": "stdout",
     "output_type": "stream",
     "text": [
      "1178\n"
     ]
    },
    {
     "name": "stderr",
     "output_type": "stream",
     "text": [
      "RDKit ERROR: [20:41:56] Explicit valence for atom # 0 N, 4, is greater than permitted\n",
      "[20:41:56] Explicit valence for atom # 0 N, 4, is greater than permitted\n"
     ]
    },
    {
     "name": "stdout",
     "output_type": "stream",
     "text": [
      "1561\n"
     ]
    },
    {
     "name": "stderr",
     "output_type": "stream",
     "text": [
      "RDKit ERROR: [20:42:03] Explicit valence for atom # 0 N, 4, is greater than permitted\n",
      "[20:42:03] Explicit valence for atom # 0 N, 4, is greater than permitted\n"
     ]
    },
    {
     "name": "stdout",
     "output_type": "stream",
     "text": [
      "2071\n"
     ]
    },
    {
     "name": "stderr",
     "output_type": "stream",
     "text": [
      "RDKit ERROR: [20:42:06] Explicit valence for atom # 0 N, 4, is greater than permitted\n",
      "[20:42:06] Explicit valence for atom # 0 N, 4, is greater than permitted\n"
     ]
    },
    {
     "name": "stdout",
     "output_type": "stream",
     "text": [
      "2347\n"
     ]
    },
    {
     "name": "stderr",
     "output_type": "stream",
     "text": [
      "RDKit ERROR: [20:42:09] Explicit valence for atom # 0 N, 4, is greater than permitted\n",
      "[20:42:09] Explicit valence for atom # 0 N, 4, is greater than permitted\n"
     ]
    },
    {
     "name": "stdout",
     "output_type": "stream",
     "text": [
      "2557\n"
     ]
    },
    {
     "name": "stderr",
     "output_type": "stream",
     "text": [
      "RDKit ERROR: [20:42:10] Explicit valence for atom # 0 N, 4, is greater than permitted\n",
      "[20:42:10] Explicit valence for atom # 0 N, 4, is greater than permitted\n"
     ]
    },
    {
     "name": "stdout",
     "output_type": "stream",
     "text": [
      "2683\n"
     ]
    },
    {
     "name": "stderr",
     "output_type": "stream",
     "text": [
      "RDKit ERROR: [20:42:16] Explicit valence for atom # 0 N, 4, is greater than permitted\n",
      "[20:42:16] Explicit valence for atom # 0 N, 4, is greater than permitted\n"
     ]
    },
    {
     "name": "stdout",
     "output_type": "stream",
     "text": [
      "3114\n"
     ]
    }
   ],
   "source": [
    "for i in range(len(df)):\n",
    "    try:\n",
    "        filepath = './images/' + df['id'][i] + '.jpg'\n",
    "        df['filepath'][i] = filepath\n",
    "        Draw.MolToImageFile(Chem.MolFromSmiles(df['smiles'][i]), filepath, size=(300, 300), kekulize=True, wedgeBonds=True)\n",
    "    except: \n",
    "        print(i)\n",
    "        df['filepath'][i] = 'NaN'"
   ]
  },
  {
   "cell_type": "code",
   "execution_count": 31,
   "id": "14d0d7d8",
   "metadata": {},
   "outputs": [
    {
     "name": "stdout",
     "output_type": "stream",
     "text": [
      "3222\n",
      "3214\n"
     ]
    }
   ],
   "source": [
    "print(len(df))\n",
    "df = df[df['filepath'] != 'NaN']\n",
    "print(len(df))"
   ]
  },
  {
   "cell_type": "code",
   "execution_count": 32,
   "id": "eee38f04",
   "metadata": {},
   "outputs": [],
   "source": [
    "df.to_csv('./result_label.csv')"
   ]
  },
  {
   "cell_type": "code",
   "execution_count": null,
   "id": "15f52f33",
   "metadata": {},
   "outputs": [],
   "source": []
  }
 ],
 "metadata": {
  "kernelspec": {
   "display_name": "Python 3.7.11 64-bit ('CUAI': conda)",
   "language": "python",
   "name": "python3711jvsc74a57bd07ec54299bdc885b98727e5373a76c5c324fd6f51c2aff0222b0dd244497c137e"
  },
  "language_info": {
   "codemirror_mode": {
    "name": "ipython",
    "version": 3
   },
   "file_extension": ".py",
   "mimetype": "text/x-python",
   "name": "python",
   "nbconvert_exporter": "python",
   "pygments_lexer": "ipython3",
   "version": "3.7.11"
  }
 },
 "nbformat": 4,
 "nbformat_minor": 5
}
