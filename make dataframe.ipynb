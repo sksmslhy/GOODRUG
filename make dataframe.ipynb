{
 "cells": [
  {
   "cell_type": "code",
   "execution_count": 1,
   "id": "74286423",
   "metadata": {
    "scrolled": true
   },
   "outputs": [],
   "source": [
    "import pandas as pd\n",
    "#import pyvips"
   ]
  },
  {
   "cell_type": "code",
   "execution_count": 2,
   "id": "3d4f1cdc",
   "metadata": {},
   "outputs": [
    {
     "data": {
      "text/html": [
       "<div>\n",
       "<style scoped>\n",
       "    .dataframe tbody tr th:only-of-type {\n",
       "        vertical-align: middle;\n",
       "    }\n",
       "\n",
       "    .dataframe tbody tr th {\n",
       "        vertical-align: top;\n",
       "    }\n",
       "\n",
       "    .dataframe thead th {\n",
       "        text-align: right;\n",
       "    }\n",
       "</style>\n",
       "<table border=\"1\" class=\"dataframe\">\n",
       "  <thead>\n",
       "    <tr style=\"text-align: right;\">\n",
       "      <th></th>\n",
       "      <th>Drug1_ID</th>\n",
       "      <th>Drug1</th>\n",
       "      <th>Drug2_ID</th>\n",
       "      <th>Drug2</th>\n",
       "      <th>Y</th>\n",
       "    </tr>\n",
       "  </thead>\n",
       "  <tbody>\n",
       "    <tr>\n",
       "      <th>0</th>\n",
       "      <td>DB04571</td>\n",
       "      <td>CC1=CC2=CC3=C(OC(=O)C=C3C)C(C)=C2O1</td>\n",
       "      <td>DB00460</td>\n",
       "      <td>COC(=O)CCC1=C2NC(\\C=C3/N=C(/C=C4\\N\\C(=C/C5=N/C...</td>\n",
       "      <td>1</td>\n",
       "    </tr>\n",
       "    <tr>\n",
       "      <th>1</th>\n",
       "      <td>DB09536</td>\n",
       "      <td>O=[Ti]=O</td>\n",
       "      <td>DB00460</td>\n",
       "      <td>COC(=O)CCC1=C2NC(\\C=C3/N=C(/C=C4\\N\\C(=C/C5=N/C...</td>\n",
       "      <td>1</td>\n",
       "    </tr>\n",
       "    <tr>\n",
       "      <th>2</th>\n",
       "      <td>DB01600</td>\n",
       "      <td>CC(C(O)=O)C1=CC=C(S1)C(=O)C1=CC=CC=C1</td>\n",
       "      <td>DB00460</td>\n",
       "      <td>COC(=O)CCC1=C2NC(\\C=C3/N=C(/C=C4\\N\\C(=C/C5=N/C...</td>\n",
       "      <td>1</td>\n",
       "    </tr>\n",
       "    <tr>\n",
       "      <th>3</th>\n",
       "      <td>DB09000</td>\n",
       "      <td>CC(CN(C)C)CN1C2=CC=CC=C2SC2=C1C=C(C=C2)C#N</td>\n",
       "      <td>DB00460</td>\n",
       "      <td>COC(=O)CCC1=C2NC(\\C=C3/N=C(/C=C4\\N\\C(=C/C5=N/C...</td>\n",
       "      <td>1</td>\n",
       "    </tr>\n",
       "    <tr>\n",
       "      <th>4</th>\n",
       "      <td>DB11630</td>\n",
       "      <td>OC1=CC=CC(=C1)C-1=C2\\CCC(=N2)\\C(=C2/N\\C(\\C=C2)...</td>\n",
       "      <td>DB00460</td>\n",
       "      <td>COC(=O)CCC1=C2NC(\\C=C3/N=C(/C=C4\\N\\C(=C/C5=N/C...</td>\n",
       "      <td>1</td>\n",
       "    </tr>\n",
       "    <tr>\n",
       "      <th>...</th>\n",
       "      <td>...</td>\n",
       "      <td>...</td>\n",
       "      <td>...</td>\n",
       "      <td>...</td>\n",
       "      <td>...</td>\n",
       "    </tr>\n",
       "    <tr>\n",
       "      <th>134260</th>\n",
       "      <td>DB00437</td>\n",
       "      <td>OC1=NC=NC2=C1C=NN2</td>\n",
       "      <td>DB00524</td>\n",
       "      <td>CC1NC2=CC(Cl)=C(C=C2C(=O)N1C1=CC=CC=C1C)S(N)(=...</td>\n",
       "      <td>86</td>\n",
       "    </tr>\n",
       "    <tr>\n",
       "      <th>134261</th>\n",
       "      <td>DB00437</td>\n",
       "      <td>OC1=NC=NC2=C1C=NN2</td>\n",
       "      <td>DB01197</td>\n",
       "      <td>C[C@H](CS)C(=O)N1CCC[C@H]1C(O)=O</td>\n",
       "      <td>86</td>\n",
       "    </tr>\n",
       "    <tr>\n",
       "      <th>134262</th>\n",
       "      <td>DB00437</td>\n",
       "      <td>OC1=NC=NC2=C1C=NN2</td>\n",
       "      <td>DB00542</td>\n",
       "      <td>[H][C@@]1(CCC2=CC=CC=C2N(CC(O)=O)C1=O)N[C@@H](...</td>\n",
       "      <td>86</td>\n",
       "    </tr>\n",
       "    <tr>\n",
       "      <th>134263</th>\n",
       "      <td>DB00437</td>\n",
       "      <td>OC1=NC=NC2=C1C=NN2</td>\n",
       "      <td>DB00492</td>\n",
       "      <td>CCC(=O)O[C@@H](O[P@](=O)(CCCCC1=CC=CC=C1)CC(=O...</td>\n",
       "      <td>86</td>\n",
       "    </tr>\n",
       "    <tr>\n",
       "      <th>134264</th>\n",
       "      <td>DB00415</td>\n",
       "      <td>[H][C@]12SC(C)(C)[C@@H](N1C(=O)[C@H]2NC(=O)[C@...</td>\n",
       "      <td>DB00437</td>\n",
       "      <td>OC1=NC=NC2=C1C=NN2</td>\n",
       "      <td>86</td>\n",
       "    </tr>\n",
       "  </tbody>\n",
       "</table>\n",
       "<p>134265 rows × 5 columns</p>\n",
       "</div>"
      ],
      "text/plain": [
       "       Drug1_ID                                              Drug1 Drug2_ID  \\\n",
       "0       DB04571                CC1=CC2=CC3=C(OC(=O)C=C3C)C(C)=C2O1  DB00460   \n",
       "1       DB09536                                           O=[Ti]=O  DB00460   \n",
       "2       DB01600              CC(C(O)=O)C1=CC=C(S1)C(=O)C1=CC=CC=C1  DB00460   \n",
       "3       DB09000         CC(CN(C)C)CN1C2=CC=CC=C2SC2=C1C=C(C=C2)C#N  DB00460   \n",
       "4       DB11630  OC1=CC=CC(=C1)C-1=C2\\CCC(=N2)\\C(=C2/N\\C(\\C=C2)...  DB00460   \n",
       "...         ...                                                ...      ...   \n",
       "134260  DB00437                                 OC1=NC=NC2=C1C=NN2  DB00524   \n",
       "134261  DB00437                                 OC1=NC=NC2=C1C=NN2  DB01197   \n",
       "134262  DB00437                                 OC1=NC=NC2=C1C=NN2  DB00542   \n",
       "134263  DB00437                                 OC1=NC=NC2=C1C=NN2  DB00492   \n",
       "134264  DB00415  [H][C@]12SC(C)(C)[C@@H](N1C(=O)[C@H]2NC(=O)[C@...  DB00437   \n",
       "\n",
       "                                                    Drug2   Y  \n",
       "0       COC(=O)CCC1=C2NC(\\C=C3/N=C(/C=C4\\N\\C(=C/C5=N/C...   1  \n",
       "1       COC(=O)CCC1=C2NC(\\C=C3/N=C(/C=C4\\N\\C(=C/C5=N/C...   1  \n",
       "2       COC(=O)CCC1=C2NC(\\C=C3/N=C(/C=C4\\N\\C(=C/C5=N/C...   1  \n",
       "3       COC(=O)CCC1=C2NC(\\C=C3/N=C(/C=C4\\N\\C(=C/C5=N/C...   1  \n",
       "4       COC(=O)CCC1=C2NC(\\C=C3/N=C(/C=C4\\N\\C(=C/C5=N/C...   1  \n",
       "...                                                   ...  ..  \n",
       "134260  CC1NC2=CC(Cl)=C(C=C2C(=O)N1C1=CC=CC=C1C)S(N)(=...  86  \n",
       "134261                   C[C@H](CS)C(=O)N1CCC[C@H]1C(O)=O  86  \n",
       "134262  [H][C@@]1(CCC2=CC=CC=C2N(CC(O)=O)C1=O)N[C@@H](...  86  \n",
       "134263  CCC(=O)O[C@@H](O[P@](=O)(CCCCC1=CC=CC=C1)CC(=O...  86  \n",
       "134264                                 OC1=NC=NC2=C1C=NN2  86  \n",
       "\n",
       "[134265 rows x 5 columns]"
      ]
     },
     "execution_count": 2,
     "metadata": {},
     "output_type": "execute_result"
    }
   ],
   "source": [
    "df = pd.read_csv('./train.csv')\n",
    "df"
   ]
  },
  {
   "cell_type": "code",
   "execution_count": 3,
   "id": "2e32482a",
   "metadata": {
    "scrolled": true
   },
   "outputs": [
    {
     "name": "stdout",
     "output_type": "stream",
     "text": [
      "49    42592\n",
      "47    24102\n",
      "73    16509\n",
      "75     6539\n",
      "60     5945\n",
      "70     5470\n",
      "20     4352\n",
      "16     3727\n",
      "4      3526\n",
      "6      2206\n",
      "Name: Y, dtype: int64\n"
     ]
    }
   ],
   "source": [
    "print(df['Y'].value_counts()[0:10])"
   ]
  },
  {
   "cell_type": "code",
   "execution_count": 4,
   "id": "cccd8485",
   "metadata": {
    "scrolled": true
   },
   "outputs": [],
   "source": [
    "# 75, 60, 70, \n",
    "a = df['Y']==75\n",
    "b = df['Y']==73\n",
    "c = df['Y']==70\n",
    "\n",
    "df1 = pd.DataFrame(df[a], columns=['Drug1_ID', 'Drug1', 'Drug2_ID', 'Drug2', 'Y'])\n",
    "df2 = pd.DataFrame(df[b], columns=['Drug1_ID', 'Drug1', 'Drug2_ID', 'Drug2', 'Y'])\n",
    "df3 = pd.DataFrame(df[c], columns=['Drug1_ID', 'Drug1', 'Drug2_ID', 'Drug2', 'Y'])"
   ]
  },
  {
   "cell_type": "code",
   "execution_count": 5,
   "id": "e0814467",
   "metadata": {
    "scrolled": true
   },
   "outputs": [],
   "source": [
    "list75_id = []\n",
    "list75_smiles = []\n",
    "for i in range(len(df1)):\n",
    "    list75_id.append(df1['Drug1_ID'].iloc[i])\n",
    "    list75_id.append(df1['Drug2_ID'].iloc[i])\n",
    "    list75_smiles.append(df1['Drug1'].iloc[i])\n",
    "    list75_smiles.append(df1['Drug2'].iloc[i])\n",
    "    \n",
    "list73_id = []\n",
    "list73_smiles = []\n",
    "for i in range(len(df2)):\n",
    "    list73_id.append(df2['Drug1_ID'].iloc[i])\n",
    "    list73_id.append(df2['Drug2_ID'].iloc[i])\n",
    "    list73_smiles.append(df2['Drug1'].iloc[i])\n",
    "    list73_smiles.append(df2['Drug2'].iloc[i])\n",
    "    \n",
    "list70_id = []\n",
    "list70_smiles = []\n",
    "for i in range(len(df3)):\n",
    "    list70_id.append(df3['Drug1_ID'].iloc[i])\n",
    "    list70_id.append(df3['Drug2_ID'].iloc[i])\n",
    "    list70_smiles.append(df3['Drug1'].iloc[i])\n",
    "    list70_smiles.append(df3['Drug2'].iloc[i])"
   ]
  },
  {
   "cell_type": "code",
   "execution_count": 6,
   "id": "b3f6956d",
   "metadata": {},
   "outputs": [],
   "source": [
    "# 중복 제거\n",
    "list75_id = set(list75_id)\n",
    "list75_id = list(list75_id)\n",
    "list75_smiles = set(list75_smiles)\n",
    "list75_smiles = list(list75_smiles)\n",
    "\n",
    "list73_id = set(list73_id)\n",
    "list73_id = list(list73_id)\n",
    "list73_smiles = set(list73_smiles)\n",
    "list73_smiles = list(list73_smiles)\n",
    "\n",
    "list70_id = set(list70_id)\n",
    "list70_id = list(list70_id)\n",
    "list70_smiles = set(list70_smiles)\n",
    "list70_smiles = list(list70_smiles)"
   ]
  },
  {
   "cell_type": "code",
   "execution_count": 7,
   "id": "ea5b6c10",
   "metadata": {},
   "outputs": [
    {
     "name": "stdout",
     "output_type": "stream",
     "text": [
      "992\n",
      "1200\n",
      "1030\n"
     ]
    }
   ],
   "source": [
    "print(len(list70_smiles))\n",
    "print(len(list73_smiles))\n",
    "print(len(list75_smiles))"
   ]
  },
  {
   "cell_type": "code",
   "execution_count": 36,
   "id": "9eba7120",
   "metadata": {
    "scrolled": true
   },
   "outputs": [
    {
     "name": "stderr",
     "output_type": "stream",
     "text": [
      "/Users/hayunlee/opt/anaconda3/envs/CUAI/lib/python3.7/site-packages/ipykernel_launcher.py:7: DeprecationWarning: The default dtype for empty Series will be 'object' instead of 'float64' in a future version. Specify a dtype explicitly to silence this warning.\n",
      "  import sys\n",
      "/Users/hayunlee/opt/anaconda3/envs/CUAI/lib/python3.7/site-packages/ipykernel_launcher.py:16: DeprecationWarning: The default dtype for empty Series will be 'object' instead of 'float64' in a future version. Specify a dtype explicitly to silence this warning.\n",
      "  app.launch_new_instance()\n",
      "/Users/hayunlee/opt/anaconda3/envs/CUAI/lib/python3.7/site-packages/ipykernel_launcher.py:25: DeprecationWarning: The default dtype for empty Series will be 'object' instead of 'float64' in a future version. Specify a dtype explicitly to silence this warning.\n"
     ]
    }
   ],
   "source": [
    "col_name = ['filepath', 'Drug_ID', 'Drug_smiles', 'Y']\n",
    "temp = []\n",
    "temp.append(list70_id)\n",
    "temp.append(list70_smiles)\n",
    "list_df_70 = pd.DataFrame(temp).T\n",
    "\n",
    "list_df_70['filepath'] = pd.Series() \n",
    "list_df_70['Y'] = 0\n",
    "\n",
    "\n",
    "temp = []\n",
    "temp.append(list73_id)\n",
    "temp.append(list73_smiles)\n",
    "list_df_73 = pd.DataFrame(temp).T\n",
    "\n",
    "list_df_73['filepath'] = pd.Series() \n",
    "list_df_73['Y'] = 1\n",
    "\n",
    "\n",
    "temp = []\n",
    "temp.append(list75_id)\n",
    "temp.append(list75_smiles)\n",
    "list_df_75 = pd.DataFrame(temp).T\n",
    "\n",
    "list_df_75['filepath'] = pd.Series() \n",
    "list_df_75['Y'] = 2"
   ]
  },
  {
   "cell_type": "code",
   "execution_count": 40,
   "id": "5f7ed49d",
   "metadata": {
    "scrolled": false
   },
   "outputs": [],
   "source": [
    "result = pd.concat([list_df_70,list_df_73, list_df_75], ignore_index=True)"
   ]
  },
  {
   "cell_type": "code",
   "execution_count": 43,
   "id": "12040d0b",
   "metadata": {},
   "outputs": [],
   "source": [
    "result.to_csv('./lables.csv')"
   ]
  },
  {
   "cell_type": "code",
   "execution_count": null,
   "id": "e320e151",
   "metadata": {},
   "outputs": [],
   "source": []
  },
  {
   "cell_type": "code",
   "execution_count": 44,
   "id": "6a1f0fb1",
   "metadata": {
    "scrolled": true
   },
   "outputs": [],
   "source": []
  },
  {
   "cell_type": "code",
   "execution_count": null,
   "id": "189ca749",
   "metadata": {},
   "outputs": [],
   "source": []
  }
 ],
 "metadata": {
  "kernelspec": {
   "display_name": "Python 3.7.11 64-bit ('CUAI': conda)",
   "language": "python",
   "name": "python3711jvsc74a57bd07ec54299bdc885b98727e5373a76c5c324fd6f51c2aff0222b0dd244497c137e"
  },
  "language_info": {
   "codemirror_mode": {
    "name": "ipython",
    "version": 3
   },
   "file_extension": ".py",
   "mimetype": "text/x-python",
   "name": "python",
   "nbconvert_exporter": "python",
   "pygments_lexer": "ipython3",
   "version": "3.7.11"
  }
 },
 "nbformat": 4,
 "nbformat_minor": 5
}
